{
 "cells": [
  {
   "cell_type": "code",
   "execution_count": 1,
   "metadata": {
    "collapsed": false
   },
   "outputs": [],
   "source": [
    "%matplotlib inline\n",
    "import matplotlib.pyplot as plt\n",
    "# import seaborn as sns\n",
    "# sns.set()"
   ]
  },
  {
   "cell_type": "code",
   "execution_count": 2,
   "metadata": {
    "collapsed": false
   },
   "outputs": [],
   "source": [
    "import sncosmo"
   ]
  },
  {
   "cell_type": "code",
   "execution_count": 3,
   "metadata": {
    "collapsed": false
   },
   "outputs": [],
   "source": [
    "import analyzeSN as ans"
   ]
  },
  {
   "cell_type": "markdown",
   "metadata": {},
   "source": [
    "## Load the SN from an SNANA simulation"
   ]
  },
  {
   "cell_type": "markdown",
   "metadata": {},
   "source": [
    "This should work with all the supernovae in the simulation, but to make this example quick, let us just load the first one and represent the collection of SN."
   ]
  },
  {
   "cell_type": "code",
   "execution_count": 6,
   "metadata": {
    "collapsed": false
   },
   "outputs": [
    {
     "name": "stdout",
     "output_type": "stream",
     "text": [
      "/Users/rbiswas/.local/lib/python2.7/site-packages/analyzeSN/example_data/snana_fits_HEAD.FITS\n"
     ]
    }
   ],
   "source": [
    "# location is relative or absolute path to the file\n",
    "sne = ans.snanaSims.SnanaSims.fromSNANAfileroot('snana_fits', location=ans.example_data, n=1)"
   ]
  },
  {
   "cell_type": "markdown",
   "metadata": {},
   "source": [
    "Pick out the very first SN and reformat it to look the way sncosmo  expects SN to look"
   ]
  },
  {
   "cell_type": "code",
   "execution_count": 7,
   "metadata": {
    "collapsed": false
   },
   "outputs": [],
   "source": [
    "sn = ans.snanaSims.SnanaSims.reformat_SNANASN(sne.snList[0])"
   ]
  },
  {
   "cell_type": "markdown",
   "metadata": {},
   "source": [
    "Make sure SNCosmo can understand band names"
   ]
  },
  {
   "cell_type": "code",
   "execution_count": 8,
   "metadata": {
    "collapsed": false
   },
   "outputs": [],
   "source": [
    "ans.snanaSims.SnanaSims.matchSNANAbandnamesinregistry()"
   ]
  },
  {
   "cell_type": "markdown",
   "metadata": {},
   "source": [
    "We can look at the information in the light curve, or at the metadata"
   ]
  },
  {
   "cell_type": "code",
   "execution_count": 9,
   "metadata": {
    "collapsed": false
   },
   "outputs": [
    {
     "data": {
      "text/html": [
       "&lt;Table length=5&gt;\n",
       "<table id=\"table4636206736\">\n",
       "<thead><tr><th>MJD</th><th>band</th><th>FIELD</th><th>TELESCOPE</th><th>PHOTFLAG</th><th>PHOTPROB</th><th>flux</th><th>fluxerr</th><th>MAG</th><th>MAGERR</th><th>PSF_SIG1</th><th>PSF_SIG2</th><th>PSF_RATIO</th><th>SKY_SIG</th><th>SKY_SIG_T</th><th>RDNOISE</th><th>ZEROPT</th><th>ZEROPT_ERR</th><th>GAIN</th><th>ZP</th><th>ZPSYS</th></tr></thead>\n",
       "<thead><tr><th>float64</th><th>str2</th><th>str12</th><th>str20</th><th>int32</th><th>float32</th><th>float32</th><th>float32</th><th>float32</th><th>float32</th><th>float32</th><th>float32</th><th>float32</th><th>float32</th><th>float32</th><th>float32</th><th>float32</th><th>float32</th><th>float32</th><th>float64</th><th>str2</th></tr></thead>\n",
       "<tr><td>52881.5</td><td>i</td><td>NULL</td><td>ALL</td><td>0</td><td>0.0</td><td>13.44</td><td>2.846</td><td>24.679</td><td>0.0</td><td>0.0</td><td>0.0</td><td>0.0</td><td>0.0</td><td>0.0</td><td>0.0</td><td>0.0</td><td>0.0</td><td>0.0</td><td>27.5</td><td>ab</td></tr>\n",
       "<tr><td>52881.539</td><td>r</td><td>NULL</td><td>ALL</td><td>0</td><td>0.0</td><td>7.74</td><td>1.701</td><td>25.278</td><td>0.0</td><td>0.0</td><td>0.0</td><td>0.0</td><td>0.0</td><td>0.0</td><td>0.0</td><td>0.0</td><td>0.0</td><td>0.0</td><td>27.5</td><td>ab</td></tr>\n",
       "<tr><td>52881.559</td><td>z</td><td>NULL</td><td>ALL</td><td>0</td><td>0.0</td><td>19.72</td><td>6.539</td><td>24.263</td><td>0.0</td><td>0.0</td><td>0.0</td><td>0.0</td><td>0.0</td><td>0.0</td><td>0.0</td><td>0.0</td><td>0.0</td><td>0.0</td><td>27.5</td><td>ab</td></tr>\n",
       "<tr><td>52886.602</td><td>i</td><td>NULL</td><td>ALL</td><td>0</td><td>0.0</td><td>44.52</td><td>2.909</td><td>23.379</td><td>0.0</td><td>0.0</td><td>0.0</td><td>0.0</td><td>0.0</td><td>0.0</td><td>0.0</td><td>0.0</td><td>0.0</td><td>0.0</td><td>27.5</td><td>ab</td></tr>\n",
       "<tr><td>52900.531</td><td>i</td><td>NULL</td><td>ALL</td><td>0</td><td>0.0</td><td>86.57</td><td>2.914</td><td>22.657</td><td>0.0</td><td>0.0</td><td>0.0</td><td>0.0</td><td>0.0</td><td>0.0</td><td>0.0</td><td>0.0</td><td>0.0</td><td>0.0</td><td>27.5</td><td>ab</td></tr>\n",
       "</table>"
      ],
      "text/plain": [
       "<Table length=5>\n",
       "   MJD    band    FIELD          TELESCOPE       ...   GAIN     ZP   ZPSYS\n",
       " float64  str2    str12            str20         ... float32 float64  str2\n",
       "--------- ---- ------------ -------------------- ... ------- ------- -----\n",
       "  52881.5    i NULL         ALL                  ...     0.0    27.5    ab\n",
       "52881.539    r NULL         ALL                  ...     0.0    27.5    ab\n",
       "52881.559    z NULL         ALL                  ...     0.0    27.5    ab\n",
       "52886.602    i NULL         ALL                  ...     0.0    27.5    ab\n",
       "52900.531    i NULL         ALL                  ...     0.0    27.5    ab"
      ]
     },
     "execution_count": 9,
     "metadata": {},
     "output_type": "execute_result"
    }
   ],
   "source": [
    "sn[:5]"
   ]
  },
  {
   "cell_type": "code",
   "execution_count": 10,
   "metadata": {
    "collapsed": false
   },
   "outputs": [
    {
     "data": {
      "text/plain": [
       "OrderedDict([('SNID', '03D1aw'),\n",
       "             ('IAUC', 'UNKNOWN '),\n",
       "             ('FAKE', 0),\n",
       "             ('RA', 36.061607000000002),\n",
       "             ('DECL', -4.5171140000000003),\n",
       "             ('PIXSIZE', -9.0),\n",
       "             ('NXPIX', 0),\n",
       "             ('NYPIX', -9),\n",
       "             ('SNTYPE', 0),\n",
       "             ('NOBS', 48),\n",
       "             ('PTROBS_MIN', 1),\n",
       "             ('PTROBS_MAX', 48),\n",
       "             ('MWEBV', 0.025),\n",
       "             ('MWEBV_ERR', 0.0040000002),\n",
       "             ('REDSHIFT_HELIO', -9.0),\n",
       "             ('REDSHIFT_HELIO_ERR', 0.0),\n",
       "             ('REDSHIFT_FINAL', 0.58170003),\n",
       "             ('REDSHIFT_FINAL_ERR', 0.001),\n",
       "             ('HOSTGAL_OBJID', 0),\n",
       "             ('HOSTGAL_PHOTOZ', -9.0),\n",
       "             ('HOSTGAL_PHOTOZ_ERR', -9.0),\n",
       "             ('HOSTGAL_SPECZ', -9.0),\n",
       "             ('HOSTGAL_SPECZ_ERR', -9.0),\n",
       "             ('HOSTGAL_SNSEP', -9.0),\n",
       "             ('HOSTGAL_LOGMASS', -9.0),\n",
       "             ('HOSTGAL_LOGMASS_ERR', -9.0),\n",
       "             ('HOSTGAL_MAG_g', 0.0),\n",
       "             ('HOSTGAL_MAG_r', 0.0),\n",
       "             ('HOSTGAL_MAG_i', 0.0),\n",
       "             ('HOSTGAL_MAG_z', 0.0),\n",
       "             ('HOSTGAL_SB_FLUXCAL_g', 0.0),\n",
       "             ('HOSTGAL_SB_FLUXCAL_r', 0.0),\n",
       "             ('HOSTGAL_SB_FLUXCAL_i', 0.0),\n",
       "             ('HOSTGAL_SB_FLUXCAL_z', 0.0),\n",
       "             ('PEAKMJD', 52900.422),\n",
       "             ('SEARCH_TYPE', 0)])"
      ]
     },
     "execution_count": 10,
     "metadata": {},
     "output_type": "execute_result"
    }
   ],
   "source": [
    "sn.meta"
   ]
  },
  {
   "cell_type": "markdown",
   "metadata": {},
   "source": [
    "## Fitting SN to models"
   ]
  },
  {
   "cell_type": "markdown",
   "metadata": {},
   "source": [
    "Instantiate a model and fit Supernovae to it. Since this is a very short demonstration for how to use the SNANA simulations\n",
    "rather than how to use SNCosmo correctly, we will stick to basics. A few points to note that are being ignored, even though I remember them (there are probably others that I cannot remember right away :) :\n",
    "\n",
    "- Photometric redshifts are hard even when we have the model\n",
    "- 'salt2' can have problems with high redshift supernovae, so using salt2-extended \n",
    "- MW extinction MUST be added to the model, but I am ignoring for now\n",
    "- Model covariance should also be added for accurate results"
   ]
  },
  {
   "cell_type": "code",
   "execution_count": 11,
   "metadata": {
    "collapsed": false
   },
   "outputs": [],
   "source": [
    "model  = sncosmo.Model(source='salt2-extended')"
   ]
  },
  {
   "cell_type": "code",
   "execution_count": 12,
   "metadata": {
    "collapsed": false
   },
   "outputs": [],
   "source": [
    "model.set(z=sn.meta['REDSHIFT_FINAL'])\n",
    "fit_results, fit_model = sncosmo.fit_lc(sn, model, vparam_names=['t0', 'x0', 'x1', 'c'])"
   ]
  },
  {
   "cell_type": "code",
   "execution_count": 13,
   "metadata": {
    "collapsed": false
   },
   "outputs": [
    {
     "name": "stdout",
     "output_type": "stream",
     "text": [
      "<Model at 0x11456e890>\n",
      "source:\n",
      "  class      : SALT2Source\n",
      "  name       : 'salt2-extended'\n",
      "  version    : 1.0\n",
      "  phases     : [-20, .., 50] days\n",
      "  wavelengths: [300, .., 18000] Angstroms\n",
      "parameters:\n",
      "  z  = 0.58170002698898315\n",
      "  t0 = 52902.658535727656\n",
      "  x0 = 7.915816561859314e-06\n",
      "  x1 = 0.51106105554992354\n",
      "  c  = 0.26957985320119349\n"
     ]
    }
   ],
   "source": [
    "print fit_model"
   ]
  },
  {
   "cell_type": "code",
   "execution_count": 14,
   "metadata": {
    "collapsed": false
   },
   "outputs": [
    {
     "data": {
      "image/png": "[encoded data removed]",
      "text/plain": [
       "<matplotlib.figure.Figure at 0x114730f50>"
      ]
     },
     "metadata": {},
     "output_type": "display_data"
    }
   ],
   "source": [
    "fig = sncosmo.plot_lc(sn, model=fit_model, band=['u', 'g', 'r', 'i', 'z', 'Y'], zp=25., zpsys='ab')"
   ]
  },
  {
   "cell_type": "code",
   "execution_count": 16,
   "metadata": {
    "collapsed": false
   },
   "outputs": [
    {
     "data": {
      "text/plain": [
       "0.88437760022231149"
      ]
     },
     "execution_count": 16,
     "metadata": {},
     "output_type": "execute_result"
    }
   ],
   "source": [
    "sncosmo.chisq(sn, fit_model)/ fit_results.ndof"
   ]
  }
 ],
 "metadata": {
  "kernelspec": {
   "display_name": "Python 2",
   "language": "python",
   "name": "python2"
  },
  "language_info": {
   "codemirror_mode": {
    "name": "ipython",
    "version": 2
   },
   "file_extension": ".py",
   "mimetype": "text/x-python",
   "name": "python",
   "nbconvert_exporter": "python",
   "pygments_lexer": "ipython2",
   "version": "2.7.11"
  }
 },
 "nbformat": 4,
 "nbformat_minor": 0
}
